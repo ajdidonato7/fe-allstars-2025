{
 "cells": [
  {
   "cell_type": "code",
   "execution_count": 0,
   "metadata": {
    "application/vnd.databricks.v1+cell": {
     "cellMetadata": {
      "byteLimit": 2048000,
      "rowLimit": 10000
     },
     "inputWidgets": {},
     "nuid": "a08a84b6-ce8b-42a5-a430-5633ac5bb159",
     "showTitle": false,
     "tableResultSettingsMap": {},
     "title": ""
    }
   },
   "outputs": [],
   "source": [
    "from pyspark.sql.functions import col, rand, monotonically_increasing_id, date_sub, current_date, lit\n",
    "\n",
    "# Load the medical device retailers table from your catalog\n",
    "retailers_df = spark.table(\"mma_fe_innovation.mma.medical_device_retailers\")\n",
    "\n",
    "# Load the medical devices table from your catalog\n",
    "devices_df = spark.table(\"mma_fe_innovation.mma.usfda_medical_devices\")\n",
    "\n",
    "# Optional: Display a few rows to confirm they loaded correctly\n",
    "print(\"Retailers table loaded:\")\n",
    "display(retailers_df.limit(5))\n",
    "\n",
    "print(\"Devices table loaded:\")\n",
    "display(devices_df.limit(5))"
   ]
  },
  {
   "cell_type": "code",
   "execution_count": 0,
   "metadata": {
    "application/vnd.databricks.v1+cell": {
     "cellMetadata": {
      "byteLimit": 2048000,
      "rowLimit": 10000
     },
     "inputWidgets": {},
     "nuid": "5e049201-c046-4895-a7b0-6f7844597e8d",
     "showTitle": false,
     "tableResultSettingsMap": {
      "0": {
       "dataGridStateBlob": "{\"version\":1,\"tableState\":{\"columnPinning\":{\"left\":[\"#row_number#\"],\"right\":[]},\"columnSizing\":{},\"columnVisibility\":{}},\"settings\":{\"columns\":{}},\"syncTimestamp\":1757969862217}",
       "filterBlob": null,
       "queryPlanFiltersBlob": null,
       "tableResultIndex": 0
      }
     },
     "title": ""
    }
   },
   "outputs": [],
   "source": [
    "# 1. Perform a cross join to create every possible combination of a retailer and a device.\n",
    "# This forms the pool of all potential orders.\n",
    "potential_orders_df = retailers_df.crossJoin(devices_df)\n",
    "\n",
    "# 2. Add randomized order details to each potential order.\n",
    "orders_df = potential_orders_df.withColumn(\n",
    "    # Create a unique ID for each order\n",
    "    \"order_id\", monotonically_increasing_id()\n",
    ").withColumn(\n",
    "    # Generate a random quantity for the order (e.g., between 1 and 25)\n",
    "    \"quantity\", (rand() * 24 + 1).cast(\"int\")\n",
    ").withColumn(\n",
    "    # Generate a random order date within the last two years\n",
    "    \"order_date\", date_sub(current_date(), (rand() * 730).cast(\"int\"))\n",
    ")\n",
    "\n",
    "# 3. Select and arrange the columns for the final table.\n",
    "# IMPORTANT: Adjust these column names to match the actual columns in your source tables.\n",
    "# For this example, we assume plausible names like 'k_number' for a device ID and 'company_name' for the retailer name.\n",
    "final_orders_df = orders_df.select(\n",
    "    col(\"order_id\"),\n",
    "    col(\"order_date\"),\n",
    "    col(\"FirmName\").alias(\"retailer_name\"), # Assuming 'company_name' is the retailer's name\n",
    "    col(\"proprietary_name\").alias(\"device_name\"),        # Assuming 'k_number' is a unique device identifier\n",
    "    col(\"quantity\")\n",
    ")\n",
    "\n",
    "# Display the final generated orders table\n",
    "print(\"Generated Orders Table:\")\n",
    "display(final_orders_df)"
   ]
  },
  {
   "cell_type": "code",
   "execution_count": 0,
   "metadata": {
    "application/vnd.databricks.v1+cell": {
     "cellMetadata": {
      "byteLimit": 2048000,
      "rowLimit": 10000
     },
     "inputWidgets": {},
     "nuid": "d1e3eaa6-99f2-43b7-8536-cc06c91e1c28",
     "showTitle": false,
     "tableResultSettingsMap": {},
     "title": ""
    }
   },
   "outputs": [],
   "source": [
    "# Define the name for your new table\n",
    "output_table_name = \"mma_fe_innovation.mma.medical_orders_bronze\"\n",
    "\n",
    "# Save the DataFrame as a new table\n",
    "final_orders_df.write.mode(\"overwrite\").saveAsTable(output_table_name)\n",
    "\n",
    "print(f\"✅ Successfully created and saved the table '{output_table_name}'.\")"
   ]
  }
 ],
 "metadata": {
  "application/vnd.databricks.v1+notebook": {
   "computePreferences": null,
   "dashboards": [],
   "environmentMetadata": {
    "base_environment": "",
    "environment_version": "3"
   },
   "inputWidgetPreferences": null,
   "language": "python",
   "notebookMetadata": {
    "pythonIndentUnit": 2
   },
   "notebookName": "Generate Orders",
   "widgets": {}
  },
  "language_info": {
   "name": "python"
  }
 },
 "nbformat": 4,
 "nbformat_minor": 0
}
