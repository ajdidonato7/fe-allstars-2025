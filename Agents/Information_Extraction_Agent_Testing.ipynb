{
 "cells": [
  {
   "cell_type": "markdown",
   "metadata": {
    "application/vnd.databricks.v1+cell": {
     "cellMetadata": {
      "byteLimit": 2048000,
      "rowLimit": 10000
     },
     "inputWidgets": {},
     "nuid": "0bda290d-0674-4dc3-8742-f1e9196644d4",
     "showTitle": false,
     "tableResultSettingsMap": {},
     "title": ""
    }
   },
   "source": [
    "# Demo: Using Agent Bricks for Root Cause Analysis on Medical Device Reports\n",
    "\n",
    "## 1. Introduction to Agent Bricks\n",
    "Agent Bricks is a Databricks-native framework for building and deploying generative AI agents.  \n",
    "- It enables extraction of structured insights from unstructured text.  \n",
    "- Supports use cases like **information extraction, classification, summarization, and knowledge assistance**.  \n",
    "- Agents can be deployed and queried interactively or in batch, making it easy to integrate AI into analytics pipelines.\n",
    "\n",
    "---\n",
    "\n",
    "## 2. Why Use Agent Bricks for Our Dataset?\n",
    "Our dataset contains medical device adverse event reports with long, unstructured text in `adverse_event_description`.  \n",
    "- Challenges: Free-text descriptions are lengthy and complex.  \n",
    "- Goal: Extract actionable insights for **root cause analysis (RCA)**.  \n",
    "\n",
    "**Agent Bricks transforms these text fields into structured, queryable columns**, making analysis and reporting easy.\n",
    "\n",
    "---\n",
    "\n",
    "## 3. Output of the Agent\n",
    "After running the Agent Brick on the dataset, the **structured output table** contains the following columns:\n",
    "\n",
    "| Column | Description |\n",
    "|--------|-------------|\n",
    "| `device_name` | Name of the medical device involved in the adverse event or recall |\n",
    "| `manufacturer` | Manufacturer of the device |\n",
    "| `reason_for_recall` | Concise explanation of why the device was recalled or failed |\n",
    "| `adverse_events` | Description of adverse events reported, including patient impact |\n",
    "| `affected_devices` | Devices or models affected by the issue or recall |\n",
    "| `actions_to_be_taken` | Recommended actions, such as device returns, updates, or patient notifications |\n",
    "\n",
    "- Arrays like `actions_to_be_taken` are **flattened into readable strings**.  \n",
    "- The table is **interactive** and demo-ready in Databricks notebooks.\n",
    "\n",
    "---\n",
    "\n",
    "## 4. High-Level Steps\n",
    "1. **Prepare the data**: Ensure your table `mma_fe_innovation.mma.device_adverse_reports_silver` is ready.  \n",
    "2. **Create the Agent**: Use the Information Extraction template in Agent Bricks.  \n",
    "3. **Improve Quality**: Provide examples, set global instructions (valid JSON, concise phrases, no hallucinations).  \n",
    "4. **Deploy the Agent**: Generate an endpoint for SQL, Python, or UI queries.  \n",
    "5. **Run Batch Inference**: Use `ai_query` to process `adverse_event_description` into the structured columns above.  \n",
    "6. **Analyze Results**: Use the clean table to explore root causes, affected devices, adverse events, and recommended actions.\n",
    "\n",
    "---\n",
    "\n",
    "## 5. Interactive Queries\n",
    "You can also ask the agent **natural language questions** like:  \n",
    "- “Summarize root causes and actions for all Tuttnauer Autoclave reports.”  \n",
    "- “List all devices with patient infection adverse events.”  \n",
    "- “Show affected devices and clinical impacts for high severity recalls.”  \n",
    "\n",
    "The agent responds in **structured JSON or text**, which can be displayed as a clean table for analysis.\n",
    "\n",
    "---\n",
    "\n",
    "This markdown now accurately reflects your **actual output columns** for your final demo.\n"
   ]
  },
  {
   "cell_type": "markdown",
   "metadata": {
    "application/vnd.databricks.v1+cell": {
     "cellMetadata": {},
     "inputWidgets": {},
     "nuid": "83422241-5e6b-4a40-87c4-f5884b2fba84",
     "showTitle": false,
     "tableResultSettingsMap": {},
     "title": ""
    }
   },
   "source": [
    "##Testing the Agent endpoint using  ai_query:"
   ]
  },
  {
   "cell_type": "code",
   "execution_count": 0,
   "metadata": {
    "application/vnd.databricks.v1+cell": {
     "cellMetadata": {
      "byteLimit": 2048000,
      "implicitDf": true,
      "rowLimit": 10000
     },
     "inputWidgets": {},
     "nuid": "f1b2548d-f94c-4ae6-bbbf-47ee17758491",
     "showTitle": false,
     "tableResultSettingsMap": {},
     "title": ""
    }
   },
   "outputs": [],
   "source": [
    "%sql\n",
    "SELECT\n",
    "  adverse_event_description,\n",
    "  ai_query(\n",
    "    'kie-aaf115b7-endpoint',\n",
    "    CONCAT(\n",
    "      'Extract root cause, component, and symptom from the following text: ',\n",
    "      adverse_event_description\n",
    "    )\n",
    "  ) AS extracted_rca\n",
    "FROM mma_fe_innovation.mma.device_adverse_reports_silver\n",
    "LIMIT 10;\n"
   ]
  },
  {
   "cell_type": "code",
   "execution_count": 0,
   "metadata": {
    "application/vnd.databricks.v1+cell": {
     "cellMetadata": {
      "byteLimit": 2048000,
      "rowLimit": 10000
     },
     "inputWidgets": {},
     "nuid": "0a7e932b-18dc-44f5-ae38-f0b766b0725d",
     "showTitle": false,
     "tableResultSettingsMap": {},
     "title": ""
    }
   },
   "outputs": [],
   "source": [
    "from pyspark.sql.functions import from_json, col, concat_ws\n",
    "from pyspark.sql.types import StructType, StructField, StringType, ArrayType\n",
    "\n",
    "# Define schema for Agent Brick output\n",
    "rca_schema = StructType([\n",
    "    StructField(\"device_name\", StringType(), True),\n",
    "    StructField(\"manufacturer\", StringType(), True),\n",
    "    StructField(\"model_numbers\", ArrayType(StringType()), True),\n",
    "    StructField(\"distribution_dates\", StringType(), True),\n",
    "    StructField(\"reason_for_recall\", StringType(), True),\n",
    "    StructField(\"adverse_events\", StringType(), True),\n",
    "    StructField(\"affected_devices\", StringType(), True),\n",
    "    StructField(\"actions_to_be_taken\", ArrayType(StringType()), True),\n",
    "    StructField(\"contact_information\", StringType(), True),\n",
    "    StructField(\"fda_reference_number\", StringType(), True)\n",
    "])\n",
    "\n",
    "# Step 1: Run SQL query calling the Agent Brick endpoint\n",
    "query = \"\"\"\n",
    "SELECT\n",
    "  device_name,\n",
    "  adverse_event_description,\n",
    "  ai_query(\n",
    "    'kie-aaf115b7-endpoint',\n",
    "    CONCAT(\n",
    "      'Extract structured recall and adverse event information from the following text: ',\n",
    "      adverse_event_description\n",
    "    )\n",
    "  ) AS extracted_rca\n",
    "FROM mma_fe_innovation.mma.device_adverse_reports_silver\n",
    "LIMIT 10\n",
    "\"\"\"\n",
    "\n",
    "df_sql = spark.sql(query)\n",
    "\n",
    "# Step 2: Cast VARIANT to STRING and parse JSON\n",
    "df_parsed = df_sql.withColumn(\n",
    "    \"extracted_rca_str\",\n",
    "    col(\"extracted_rca\").cast(\"string\")\n",
    ").withColumn(\n",
    "    \"rca_struct\",\n",
    "    from_json(col(\"extracted_rca_str\"), rca_schema)\n",
    ")\n",
    "\n",
    "# Step 3: Select only columns from parsed JSON and top-level columns\n",
    "df_clean = df_parsed.select(\n",
    "    col(\"rca_struct.device_name\").alias(\"device_name\"),\n",
    "    col(\"rca_struct.manufacturer\").alias(\"manufacturer\"),\n",
    "    col(\"rca_struct.reason_for_recall\").alias(\"reason_for_recall\"),\n",
    "    col(\"rca_struct.adverse_events\").alias(\"adverse_events\"),\n",
    "    col(\"rca_struct.affected_devices\").alias(\"affected_devices\"),\n",
    "    concat_ws(\"; \", col(\"rca_struct.actions_to_be_taken\")).alias(\"actions_to_be_taken\")\n",
    ")\n",
    "\n",
    "# Step 4: Show clean, demo-ready table\n",
    "df_clean.show(truncate=20)\n"
   ]
  },
  {
   "cell_type": "code",
   "execution_count": 0,
   "metadata": {
    "application/vnd.databricks.v1+cell": {
     "cellMetadata": {
      "byteLimit": 2048000,
      "rowLimit": 10000
     },
     "inputWidgets": {},
     "nuid": "a6ea8d0e-5ad0-43b8-aa6f-da321effc706",
     "showTitle": false,
     "tableResultSettingsMap": {},
     "title": ""
    }
   },
   "outputs": [],
   "source": [
    "display(df_clean)"
   ]
  }
 ],
 "metadata": {
  "application/vnd.databricks.v1+notebook": {
   "computePreferences": null,
   "dashboards": [],
   "environmentMetadata": {
    "base_environment": "dbe_65bc13ea-276c-4905-a728-9fe2fb1780e2",
    "environment_version": "3"
   },
   "inputWidgetPreferences": null,
   "language": "python",
   "notebookMetadata": {
    "mostRecentlyExecutedCommandWithImplicitDF": {
     "commandId": 4640557381927735,
     "dataframes": [
      "_sqldf"
     ]
    },
    "pythonIndentUnit": 2
   },
   "notebookName": "Information_Extraction_Agent_Testing",
   "widgets": {}
  },
  "language_info": {
   "name": "python"
  }
 },
 "nbformat": 4,
 "nbformat_minor": 0
}
